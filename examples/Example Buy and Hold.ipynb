{
 "cells": [
  {
   "cell_type": "markdown",
   "metadata": {},
   "source": [
    "# <b> Buy and Hold </b>\n",
    "\n",
    "Example showing the backtesting of a Buy and Hold strategy.\n",
    "\n",
    "When the strategy starts, it will buy 50% of AAPL and 50% of GOOG.\n",
    "As soon as the backtest completes, it will return a dataframe 'result' containing the results, which can be used to visualize the equity's evolution and other metrics, like when buy or sell orders are placed."
   ]
  },
  {
   "attachments": {},
   "cell_type": "markdown",
   "metadata": {},
   "source": [
    "## <b> Import Libraries </b>"
   ]
  },
  {
   "cell_type": "code",
   "execution_count": 1,
   "metadata": {},
   "outputs": [],
   "source": [
    "# Import this library\n",
    "from nbacktest import Backtest, Strategy\n",
    "\n",
    "# Import other libraries\n",
    "import yfinance as yf\n",
    "import warnings\n",
    "\n",
    "# Ignore warnings\n",
    "warnings.simplefilter(action='ignore', category=FutureWarning)"
   ]
  },
  {
   "attachments": {},
   "cell_type": "markdown",
   "metadata": {},
   "source": [
    "## <b> Create Strategy </b>"
   ]
  },
  {
   "cell_type": "code",
   "execution_count": 2,
   "metadata": {},
   "outputs": [],
   "source": [
    "class TestStrategy (Strategy):\n",
    "\n",
    "    def on_start(self):\n",
    "\n",
    "        print(\"Strategy started!\")\n",
    "        \n",
    "        quantity1 = int((self.balance/2)/self.prices[\"AAPL\"])\n",
    "        quantity2 = int((self.balance/2)/self.prices[\"GOOG\"])\n",
    "\n",
    "        order1 = self.buy(\"AAPL\", quantity1)\n",
    "        order2 = self.buy(\"GOOG\", quantity2)\n",
    "\n",
    "        print(\"Bought %s AAPL and %s GOOG\" % (quantity1, quantity2))\n",
    "\n",
    "\n",
    "    def on_end(self):\n",
    "        \"\"\"\"\n",
    "        This function is called when the backtest of all candles is finished\n",
    "        \"\"\"\n",
    "        print(\"Strategy finished!\")\n",
    "\n",
    "\n",
    "    def next(self):\n",
    "        \"\"\"\"\n",
    "        This function is called every candle (iteration)\n",
    "        \"\"\"\n",
    "        #print(\"Backtest iteration:\", self.iteration)\n",
    "        pass\n"
   ]
  },
  {
   "attachments": {},
   "cell_type": "markdown",
   "metadata": {},
   "source": [
    "## <b> Download OHLC data from Yahoo Finance </b>"
   ]
  },
  {
   "cell_type": "code",
   "execution_count": 3,
   "metadata": {},
   "outputs": [
    {
     "name": "stderr",
     "output_type": "stream",
     "text": [
      "[*********************100%***********************]  2 of 2 completed"
     ]
    },
    {
     "name": "stdout",
     "output_type": "stream",
     "text": [
      "(1259, 10)\n"
     ]
    },
    {
     "name": "stderr",
     "output_type": "stream",
     "text": [
      "\n"
     ]
    },
    {
     "data": {
      "text/html": [
       "<div>\n",
       "<style scoped>\n",
       "    .dataframe tbody tr th:only-of-type {\n",
       "        vertical-align: middle;\n",
       "    }\n",
       "\n",
       "    .dataframe tbody tr th {\n",
       "        vertical-align: top;\n",
       "    }\n",
       "\n",
       "    .dataframe thead tr th {\n",
       "        text-align: left;\n",
       "    }\n",
       "\n",
       "    .dataframe thead tr:last-of-type th {\n",
       "        text-align: right;\n",
       "    }\n",
       "</style>\n",
       "<table border=\"1\" class=\"dataframe\">\n",
       "  <thead>\n",
       "    <tr>\n",
       "      <th>Price</th>\n",
       "      <th colspan=\"2\" halign=\"left\">Close</th>\n",
       "      <th colspan=\"2\" halign=\"left\">High</th>\n",
       "      <th colspan=\"2\" halign=\"left\">Low</th>\n",
       "      <th colspan=\"2\" halign=\"left\">Open</th>\n",
       "      <th colspan=\"2\" halign=\"left\">Volume</th>\n",
       "    </tr>\n",
       "    <tr>\n",
       "      <th>Ticker</th>\n",
       "      <th>AAPL</th>\n",
       "      <th>GOOG</th>\n",
       "      <th>AAPL</th>\n",
       "      <th>GOOG</th>\n",
       "      <th>AAPL</th>\n",
       "      <th>GOOG</th>\n",
       "      <th>AAPL</th>\n",
       "      <th>GOOG</th>\n",
       "      <th>AAPL</th>\n",
       "      <th>GOOG</th>\n",
       "    </tr>\n",
       "    <tr>\n",
       "      <th>Date</th>\n",
       "      <th></th>\n",
       "      <th></th>\n",
       "      <th></th>\n",
       "      <th></th>\n",
       "      <th></th>\n",
       "      <th></th>\n",
       "      <th></th>\n",
       "      <th></th>\n",
       "      <th></th>\n",
       "      <th></th>\n",
       "    </tr>\n",
       "  </thead>\n",
       "  <tbody>\n",
       "    <tr>\n",
       "      <th>2022-12-23</th>\n",
       "      <td>130.173782</td>\n",
       "      <td>89.279305</td>\n",
       "      <td>130.726619</td>\n",
       "      <td>89.567592</td>\n",
       "      <td>127.982170</td>\n",
       "      <td>87.102251</td>\n",
       "      <td>129.245801</td>\n",
       "      <td>87.102251</td>\n",
       "      <td>63814900</td>\n",
       "      <td>17815000</td>\n",
       "    </tr>\n",
       "    <tr>\n",
       "      <th>2022-12-27</th>\n",
       "      <td>128.367188</td>\n",
       "      <td>87.410423</td>\n",
       "      <td>129.729545</td>\n",
       "      <td>88.971146</td>\n",
       "      <td>127.073942</td>\n",
       "      <td>87.017761</td>\n",
       "      <td>129.699930</td>\n",
       "      <td>88.782266</td>\n",
       "      <td>69007800</td>\n",
       "      <td>15470900</td>\n",
       "    </tr>\n",
       "    <tr>\n",
       "      <th>2022-12-28</th>\n",
       "      <td>124.428207</td>\n",
       "      <td>85.949104</td>\n",
       "      <td>129.354393</td>\n",
       "      <td>87.996929</td>\n",
       "      <td>124.260383</td>\n",
       "      <td>85.859640</td>\n",
       "      <td>128.011784</td>\n",
       "      <td>86.982960</td>\n",
       "      <td>85438400</td>\n",
       "      <td>17879600</td>\n",
       "    </tr>\n",
       "    <tr>\n",
       "      <th>2022-12-29</th>\n",
       "      <td>127.952538</td>\n",
       "      <td>88.424385</td>\n",
       "      <td>128.811407</td>\n",
       "      <td>88.836934</td>\n",
       "      <td>126.096582</td>\n",
       "      <td>86.475968</td>\n",
       "      <td>126.353252</td>\n",
       "      <td>86.515732</td>\n",
       "      <td>75703700</td>\n",
       "      <td>18280700</td>\n",
       "    </tr>\n",
       "    <tr>\n",
       "      <th>2022-12-30</th>\n",
       "      <td>128.268463</td>\n",
       "      <td>88.205696</td>\n",
       "      <td>128.288212</td>\n",
       "      <td>88.305104</td>\n",
       "      <td>125.800440</td>\n",
       "      <td>86.515737</td>\n",
       "      <td>126.767912</td>\n",
       "      <td>86.848756</td>\n",
       "      <td>77034200</td>\n",
       "      <td>19190300</td>\n",
       "    </tr>\n",
       "  </tbody>\n",
       "</table>\n",
       "</div>"
      ],
      "text/plain": [
       "Price            Close                   High                    Low  \\\n",
       "Ticker            AAPL       GOOG        AAPL       GOOG        AAPL   \n",
       "Date                                                                   \n",
       "2022-12-23  130.173782  89.279305  130.726619  89.567592  127.982170   \n",
       "2022-12-27  128.367188  87.410423  129.729545  88.971146  127.073942   \n",
       "2022-12-28  124.428207  85.949104  129.354393  87.996929  124.260383   \n",
       "2022-12-29  127.952538  88.424385  128.811407  88.836934  126.096582   \n",
       "2022-12-30  128.268463  88.205696  128.288212  88.305104  125.800440   \n",
       "\n",
       "Price                        Open               Volume            \n",
       "Ticker           GOOG        AAPL       GOOG      AAPL      GOOG  \n",
       "Date                                                              \n",
       "2022-12-23  87.102251  129.245801  87.102251  63814900  17815000  \n",
       "2022-12-27  87.017761  129.699930  88.782266  69007800  15470900  \n",
       "2022-12-28  85.859640  128.011784  86.982960  85438400  17879600  \n",
       "2022-12-29  86.475968  126.353252  86.515732  75703700  18280700  \n",
       "2022-12-30  86.515737  126.767912  86.848756  77034200  19190300  "
      ]
     },
     "execution_count": 3,
     "metadata": {},
     "output_type": "execute_result"
    }
   ],
   "source": [
    "universe = [\"AAPL\", \"GOOG\"] # List containing the tickers of all the assets you are backtesting\n",
    "\n",
    "df_ohlc = yf.download(universe, start=\"2018-01-01\", end=\"2023-01-01\", interval=\"1d\") # Download df_ohlc data from Yahoo Finance\n",
    "\n",
    "print(df_ohlc.shape)\n",
    "df_ohlc.tail()"
   ]
  },
  {
   "cell_type": "markdown",
   "metadata": {},
   "source": [
    "## <b> Run Backtest </b>"
   ]
  },
  {
   "cell_type": "code",
   "execution_count": 4,
   "metadata": {},
   "outputs": [
    {
     "name": "stdout",
     "output_type": "stream",
     "text": [
      "Strategy started!\n",
      "Bought 1236 AAPL and 944 GOOG\n",
      "Strategy finished!\n"
     ]
    }
   ],
   "source": [
    "bt = Backtest(data=df_ohlc,\n",
    "              universe=universe,\n",
    "              strategy_class=TestStrategy,\n",
    "              price_column=\"Close\",\n",
    "              cash=100_000\n",
    "             )\n",
    "\n",
    "result = bt.run()"
   ]
  },
  {
   "cell_type": "code",
   "execution_count": 5,
   "metadata": {},
   "outputs": [
    {
     "data": {
      "text/html": [
       "<div>\n",
       "<style scoped>\n",
       "    .dataframe tbody tr th:only-of-type {\n",
       "        vertical-align: middle;\n",
       "    }\n",
       "\n",
       "    .dataframe tbody tr th {\n",
       "        vertical-align: top;\n",
       "    }\n",
       "\n",
       "    .dataframe thead th {\n",
       "        text-align: right;\n",
       "    }\n",
       "</style>\n",
       "<table border=\"1\" class=\"dataframe\">\n",
       "  <thead>\n",
       "    <tr style=\"text-align: right;\">\n",
       "      <th></th>\n",
       "      <th>ITERATION</th>\n",
       "      <th>BALANCE</th>\n",
       "      <th>POSITIONS_TOTAL</th>\n",
       "      <th>EQUITY</th>\n",
       "    </tr>\n",
       "  </thead>\n",
       "  <tbody>\n",
       "    <tr>\n",
       "      <th>0</th>\n",
       "      <td>2018-01-02</td>\n",
       "      <td>61.472366</td>\n",
       "      <td>99938.527634</td>\n",
       "      <td>100000.000000</td>\n",
       "    </tr>\n",
       "    <tr>\n",
       "      <th>1</th>\n",
       "      <td>2018-01-03</td>\n",
       "      <td>61.472366</td>\n",
       "      <td>100750.012787</td>\n",
       "      <td>100811.485153</td>\n",
       "    </tr>\n",
       "    <tr>\n",
       "      <th>2</th>\n",
       "      <td>2018-01-04</td>\n",
       "      <td>61.472366</td>\n",
       "      <td>101165.979980</td>\n",
       "      <td>101227.452347</td>\n",
       "    </tr>\n",
       "    <tr>\n",
       "      <th>3</th>\n",
       "      <td>2018-01-05</td>\n",
       "      <td>61.472366</td>\n",
       "      <td>102480.179749</td>\n",
       "      <td>102541.652115</td>\n",
       "    </tr>\n",
       "    <tr>\n",
       "      <th>4</th>\n",
       "      <td>2018-01-08</td>\n",
       "      <td>61.472366</td>\n",
       "      <td>102512.617874</td>\n",
       "      <td>102574.090240</td>\n",
       "    </tr>\n",
       "  </tbody>\n",
       "</table>\n",
       "</div>"
      ],
      "text/plain": [
       "   ITERATION    BALANCE  POSITIONS_TOTAL         EQUITY\n",
       "0 2018-01-02  61.472366     99938.527634  100000.000000\n",
       "1 2018-01-03  61.472366    100750.012787  100811.485153\n",
       "2 2018-01-04  61.472366    101165.979980  101227.452347\n",
       "3 2018-01-05  61.472366    102480.179749  102541.652115\n",
       "4 2018-01-08  61.472366    102512.617874  102574.090240"
      ]
     },
     "execution_count": 5,
     "metadata": {},
     "output_type": "execute_result"
    }
   ],
   "source": [
    "result.head()"
   ]
  },
  {
   "cell_type": "markdown",
   "metadata": {},
   "source": [
    "## <b> Backtest Statistics </b>"
   ]
  },
  {
   "cell_type": "code",
   "execution_count": 6,
   "metadata": {},
   "outputs": [
    {
     "name": "stdout",
     "output_type": "stream",
     "text": [
      "---------------------------\n",
      "Final balance: 61.47\n",
      "Final equity: 241867.47\n",
      "---------------------------\n"
     ]
    }
   ],
   "source": [
    "print(\"---------------------------\")\n",
    "print(\"Final balance: %.2f\" % bt.strategy.balance)\n",
    "print(\"Final equity: %.2f\" % bt.strategy.equity)\n",
    "print(\"---------------------------\")"
   ]
  },
  {
   "cell_type": "code",
   "execution_count": 7,
   "metadata": {},
   "outputs": [
    {
     "data": {
      "text/plain": [
       "{'AAPL': {'quantity': 1236, 'value': np.float64(158539.8204345703)},\n",
       " 'GOOG': {'quantity': 944, 'value': np.float64(83266.17712402344)}}"
      ]
     },
     "execution_count": 7,
     "metadata": {},
     "output_type": "execute_result"
    }
   ],
   "source": [
    "bt.strategy.positions"
   ]
  }
 ],
 "metadata": {
  "kernelspec": {
   "display_name": "base",
   "language": "python",
   "name": "python3"
  },
  "language_info": {
   "codemirror_mode": {
    "name": "ipython",
    "version": 3
   },
   "file_extension": ".py",
   "mimetype": "text/x-python",
   "name": "python",
   "nbconvert_exporter": "python",
   "pygments_lexer": "ipython3",
   "version": "3.12.2"
  },
  "orig_nbformat": 4
 },
 "nbformat": 4,
 "nbformat_minor": 2
}
